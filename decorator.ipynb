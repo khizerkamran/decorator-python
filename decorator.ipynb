{
 "cells": [
  {
   "cell_type": "code",
   "execution_count": 12,
   "metadata": {},
   "outputs": [],
   "source": [
    "def uppercase_decorator(function):\n",
    "    def wrapper():\n",
    "        func=function()\n",
    "        make_upercase=func.upper()\n",
    "        return make_upercase\n",
    "    return wrapper\n",
    "        "
   ]
  },
  {
   "cell_type": "code",
   "execution_count": null,
   "metadata": {},
   "outputs": [],
   "source": [
    "@uppercase_decorator\n",
    "def say_hi():\n",
    "    num= input('your full name ')\n",
    "    return 'hellow ' +num\n",
    "say_hi()"
   ]
  },
  {
   "cell_type": "code",
   "execution_count": null,
   "metadata": {},
   "outputs": [],
   "source": [
    "def lowercase_decorator(function):\n",
    "    def wrapper():\n",
    "        func=function()\n",
    "        make_lowercase=func.lower()\n",
    "        return make_lowercase\n",
    "    return wrapper\n",
    "        "
   ]
  },
  {
   "cell_type": "code",
   "execution_count": null,
   "metadata": {},
   "outputs": [],
   "source": [
    "@lowercase_decorator\n",
    "def say_hi():\n",
    "    num= input('your full name ')\n",
    "    return 'hellow ' +num\n",
    "say_hi()"
   ]
  },
  {
   "cell_type": "code",
   "execution_count": 9,
   "metadata": {},
   "outputs": [],
   "source": [
    "def split_decorator(function):\n",
    "    def wrapper():\n",
    "        func=function()\n",
    "        make_split=func.split()\n",
    "        return make_split\n",
    "    return wrapper\n",
    "        "
   ]
  },
  {
   "cell_type": "code",
   "execution_count": 10,
   "metadata": {},
   "outputs": [
    {
     "name": "stdout",
     "output_type": "stream",
     "text": [
      "type your 5 friends name k k hs u j\n"
     ]
    },
    {
     "data": {
      "text/plain": [
       "['hellow', 'k', 'k', 'hs', 'u', 'j']"
      ]
     },
     "execution_count": 10,
     "metadata": {},
     "output_type": "execute_result"
    }
   ],
   "source": [
    "@split_decorator\n",
    "def say_hi():\n",
    "    num= input('type your 5 friends name ')\n",
    "    return 'hellow ' +num\n",
    "say_hi()"
   ]
  },
  {
   "cell_type": "code",
   "execution_count": 15,
   "metadata": {},
   "outputs": [],
   "source": [
    "def d(function):\n",
    "    def wrapper(arg1, arg2):\n",
    "        print('my agrument are: {0},{1}'.format(arg1,arg2))\n",
    "        function(arg1,arg2)\n",
    "    return wrapper"
   ]
  },
  {
   "cell_type": "code",
   "execution_count": 21,
   "metadata": {},
   "outputs": [
    {
     "name": "stdout",
     "output_type": "stream",
     "text": [
      "my agrument are: babar azam,amir\n",
      "my favourite players are babar azam and amir\n"
     ]
    }
   ],
   "source": [
    "@d\n",
    "def player(player_1, player_2):\n",
    "    print('my favourite players are {0} and {1}'.format(player_1, player_2))\n",
    "player('babar azam', 'amir')"
   ]
  },
  {
   "cell_type": "code",
   "execution_count": null,
   "metadata": {},
   "outputs": [],
   "source": []
  }
 ],
 "metadata": {
  "kernelspec": {
   "display_name": "Python 3",
   "language": "python",
   "name": "python3"
  },
  "language_info": {
   "codemirror_mode": {
    "name": "ipython",
    "version": 3
   },
   "file_extension": ".py",
   "mimetype": "text/x-python",
   "name": "python",
   "nbconvert_exporter": "python",
   "pygments_lexer": "ipython3",
   "version": "3.8.6"
  }
 },
 "nbformat": 4,
 "nbformat_minor": 4
}
